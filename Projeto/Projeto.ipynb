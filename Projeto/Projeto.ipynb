{
 "cells": [
  {
   "cell_type": "markdown",
   "metadata": {},
   "source": [
    "##### Bibliotecas utilizadas"
   ]
  },
  {
   "cell_type": "code",
   "execution_count": 1,
   "metadata": {},
   "outputs": [],
   "source": [
    "import requests \n",
    "import pandas as pd\n",
    "import numpy as np\n",
    "import time\n",
    "import random\n",
    "import csv\n",
    "import copy"
   ]
  },
  {
   "cell_type": "markdown",
   "metadata": {},
   "source": [
    "##### Gerando dados"
   ]
  },
  {
   "cell_type": "code",
   "execution_count": null,
   "metadata": {},
   "outputs": [],
   "source": [
    "# Utilizado caso ainda não exista uma base de dados\n",
    "\n",
    "df_final = pd.DataFrame()\n",
    "contador = 1 \n",
    "for i in range (4):\n",
    "    dados = requests.get('http://localhost:3000/api/ep1').json()\n",
    "    df = pd.DataFrame(dados)\n",
    "    df['semana']  = contador\n",
    "    df_final = pd.concat([df, df_final], axis = 0)\n",
    "    contador +=1\n",
    "\n"
   ]
  },
  {
   "cell_type": "markdown",
   "metadata": {},
   "source": [
    "##### Tratando dados"
   ]
  },
  {
   "cell_type": "code",
   "execution_count": 62,
   "metadata": {},
   "outputs": [],
   "source": [
    "df_final = pd.read_csv('all_sales.csv', encoding = 'iso-8859-1', sep = ';')"
   ]
  },
  {
   "cell_type": "code",
   "execution_count": null,
   "metadata": {},
   "outputs": [],
   "source": [
    "# Ajustando data \n",
    "df_final['date'] = df_final['date'].map(lambda x: time.ctime(x))"
   ]
  },
  {
   "cell_type": "code",
   "execution_count": 9,
   "metadata": {},
   "outputs": [],
   "source": [
    "# Ordenando dados \n",
    "df_final.sort_values('semana', axis = 0, ascending = True, inplace = True)"
   ]
  },
  {
   "cell_type": "code",
   "execution_count": null,
   "metadata": {},
   "outputs": [],
   "source": [
    "# Ajustando valores negativos e NaN e convertendo os números em inteiro\n",
    "colunas = df_final.columns\n",
    "\n",
    "for coluna in colunas[2:len(colunas)-1]:\n",
    "        df_final[coluna] = df_final[coluna].fillna(0) \n",
    "        df_final[coluna] = df_final[coluna].apply(lambda x: int(abs(x)))\n",
    "        "
   ]
  },
  {
   "cell_type": "code",
   "execution_count": 85,
   "metadata": {},
   "outputs": [],
   "source": [
    "# Ajustando nomes das colunas para a comparação entre elas funcionar. \n",
    "df_final.rename(columns={'prod_0':'prod_00', 'prod_1':'prod_01', 'prod_2':'prod_02', \\\n",
    "    'prod_3':'prod_03', 'prod_4':'prod_04', 'prod_5':'prod_05',\\\n",
    "        'prod_6':'prod_06', 'prod_7':'prod_07', 'prod_8':'prod_08', \\\n",
    "        'prod_9':'prod_09'}, inplace = True)"
   ]
  },
  {
   "cell_type": "code",
   "execution_count": null,
   "metadata": {},
   "outputs": [],
   "source": [
    "# Gerando valores totais de produtos movimentados por unidade e por kg \n",
    "\n",
    "cabecalho = df_final.columns\n",
    "cabecalho = cabecalho.drop(['Unnamed: 0', 'id', 'date', 'semana'])\n",
    "\n",
    "cabecalho_unidades = list(cabecalho[cabecalho <= 'prod_07'])\n",
    "cabecalho_kg = list(cabecalho[cabecalho > 'prod_07'])\n",
    "\n",
    "df_final['total_por_unidade'] = df_final[cabecalho_unidades].sum(axis = 1)\n",
    "df_final['total_por_kg'] = df_final[cabecalho_kg].sum(axis = 1)\n"
   ]
  },
  {
   "cell_type": "code",
   "execution_count": 65,
   "metadata": {},
   "outputs": [],
   "source": [
    "# gerando csv\n",
    "df_final.to_csv('all_sales.csv', encoding = 'iso-8859-1', sep = ';')"
   ]
  },
  {
   "cell_type": "markdown",
   "metadata": {},
   "source": [
    "##### Tratando preços"
   ]
  },
  {
   "cell_type": "code",
   "execution_count": 2,
   "metadata": {},
   "outputs": [],
   "source": [
    "# Quando já existir um csv na base, abrir arquivo.\n",
    "\n",
    "df_final = pd.read_csv('all_sales.csv', encoding = 'iso-8859-1', sep = ';')"
   ]
  },
  {
   "cell_type": "code",
   "execution_count": 3,
   "metadata": {},
   "outputs": [],
   "source": [
    "# Gerando preços aleatórios para produtos novos\n",
    "\n",
    "df_precos = copy.deepcopy(df_final) \n",
    "\n",
    "df_precos.drop(list(range(len(df_final))), axis = 0, inplace = True, errors= 'ignore')\n",
    "df_precos.drop(['id', 'date', 'total_por_unidade', 'total_por_kg', 'Unnamed: 0.2', 'Unnamed: 0.1', 'Unnamed: 0'], axis = 1, errors= 'ignore', inplace = True)\n",
    "\n",
    "colunas_precos = df_precos.columns\n",
    "\n",
    "for coluna in colunas_precos: \n",
    "    df_precos.loc[0] = [random.randint(10,30) for x in range(df_precos.shape[1])]\n",
    "df_precos['semana'] = 1\n",
    "\n"
   ]
  },
  {
   "cell_type": "code",
   "execution_count": 42,
   "metadata": {},
   "outputs": [
    {
     "name": "stderr",
     "output_type": "stream",
     "text": [
      "C:\\Users\\gusta\\AppData\\Local\\Temp/ipykernel_13288/3765492276.py:6: FutureWarning: The default value of numeric_only in DataFrameGroupBy.sum is deprecated. In a future version, numeric_only will default to False. Either specify numeric_only or select only columns which should be valid for the function.\n",
      "  df_consulta = df_consulta.groupby('semana').sum()\n"
     ]
    },
    {
     "data": {
      "text/html": [
       "<div>\n",
       "<style scoped>\n",
       "    .dataframe tbody tr th:only-of-type {\n",
       "        vertical-align: middle;\n",
       "    }\n",
       "\n",
       "    .dataframe tbody tr th {\n",
       "        vertical-align: top;\n",
       "    }\n",
       "\n",
       "    .dataframe thead th {\n",
       "        text-align: right;\n",
       "    }\n",
       "</style>\n",
       "<table border=\"1\" class=\"dataframe\">\n",
       "  <thead>\n",
       "    <tr style=\"text-align: right;\">\n",
       "      <th></th>\n",
       "      <th>Unnamed: 0</th>\n",
       "      <th>prod_01</th>\n",
       "      <th>prod_02</th>\n",
       "      <th>prod_03</th>\n",
       "      <th>prod_05</th>\n",
       "      <th>prod_08</th>\n",
       "      <th>prod_09</th>\n",
       "      <th>prod_10</th>\n",
       "      <th>prod_15</th>\n",
       "      <th>prod_00</th>\n",
       "      <th>prod_04</th>\n",
       "      <th>prod_06</th>\n",
       "      <th>prod_11</th>\n",
       "      <th>prod_07</th>\n",
       "      <th>total_por_unidade</th>\n",
       "      <th>total_por_kg</th>\n",
       "    </tr>\n",
       "    <tr>\n",
       "      <th>semana</th>\n",
       "      <th></th>\n",
       "      <th></th>\n",
       "      <th></th>\n",
       "      <th></th>\n",
       "      <th></th>\n",
       "      <th></th>\n",
       "      <th></th>\n",
       "      <th></th>\n",
       "      <th></th>\n",
       "      <th></th>\n",
       "      <th></th>\n",
       "      <th></th>\n",
       "      <th></th>\n",
       "      <th></th>\n",
       "      <th></th>\n",
       "      <th></th>\n",
       "    </tr>\n",
       "  </thead>\n",
       "  <tbody>\n",
       "    <tr>\n",
       "      <th>1</th>\n",
       "      <td>28</td>\n",
       "      <td>93</td>\n",
       "      <td>62</td>\n",
       "      <td>174</td>\n",
       "      <td>98</td>\n",
       "      <td>527</td>\n",
       "      <td>787</td>\n",
       "      <td>824</td>\n",
       "      <td>11408</td>\n",
       "      <td>137</td>\n",
       "      <td>42</td>\n",
       "      <td>144</td>\n",
       "      <td>686</td>\n",
       "      <td>37</td>\n",
       "      <td>815</td>\n",
       "      <td>14232</td>\n",
       "    </tr>\n",
       "    <tr>\n",
       "      <th>2</th>\n",
       "      <td>875</td>\n",
       "      <td>375</td>\n",
       "      <td>322</td>\n",
       "      <td>386</td>\n",
       "      <td>320</td>\n",
       "      <td>4981</td>\n",
       "      <td>7681</td>\n",
       "      <td>7588</td>\n",
       "      <td>42869</td>\n",
       "      <td>281</td>\n",
       "      <td>345</td>\n",
       "      <td>390</td>\n",
       "      <td>5754</td>\n",
       "      <td>464</td>\n",
       "      <td>3758</td>\n",
       "      <td>68873</td>\n",
       "    </tr>\n",
       "    <tr>\n",
       "      <th>3</th>\n",
       "      <td>1177</td>\n",
       "      <td>138</td>\n",
       "      <td>342</td>\n",
       "      <td>162</td>\n",
       "      <td>211</td>\n",
       "      <td>5634</td>\n",
       "      <td>7798</td>\n",
       "      <td>6753</td>\n",
       "      <td>25050</td>\n",
       "      <td>363</td>\n",
       "      <td>230</td>\n",
       "      <td>198</td>\n",
       "      <td>5354</td>\n",
       "      <td>234</td>\n",
       "      <td>3055</td>\n",
       "      <td>50589</td>\n",
       "    </tr>\n",
       "    <tr>\n",
       "      <th>4</th>\n",
       "      <td>1001</td>\n",
       "      <td>123</td>\n",
       "      <td>133</td>\n",
       "      <td>126</td>\n",
       "      <td>240</td>\n",
       "      <td>3565</td>\n",
       "      <td>1439</td>\n",
       "      <td>3632</td>\n",
       "      <td>13138</td>\n",
       "      <td>76</td>\n",
       "      <td>206</td>\n",
       "      <td>241</td>\n",
       "      <td>1199</td>\n",
       "      <td>139</td>\n",
       "      <td>2285</td>\n",
       "      <td>22973</td>\n",
       "    </tr>\n",
       "  </tbody>\n",
       "</table>\n",
       "</div>"
      ],
      "text/plain": [
       "        Unnamed: 0  prod_01  prod_02  prod_03  prod_05  prod_08  prod_09  \\\n",
       "semana                                                                     \n",
       "1               28       93       62      174       98      527      787   \n",
       "2              875      375      322      386      320     4981     7681   \n",
       "3             1177      138      342      162      211     5634     7798   \n",
       "4             1001      123      133      126      240     3565     1439   \n",
       "\n",
       "        prod_10  prod_15  prod_00  prod_04  prod_06  prod_11  prod_07  \\\n",
       "semana                                                                  \n",
       "1           824    11408      137       42      144      686       37   \n",
       "2          7588    42869      281      345      390     5754      464   \n",
       "3          6753    25050      363      230      198     5354      234   \n",
       "4          3632    13138       76      206      241     1199      139   \n",
       "\n",
       "        total_por_unidade  total_por_kg  \n",
       "semana                                   \n",
       "1                     815         14232  \n",
       "2                    3758         68873  \n",
       "3                    3055         50589  \n",
       "4                    2285         22973  "
      ]
     },
     "execution_count": 42,
     "metadata": {},
     "output_type": "execute_result"
    }
   ],
   "source": [
    "# Verificando o número de semanas\n",
    "\n",
    "df_consulta = pd.read_csv('all_sales.csv', sep =';', encoding = 'iso-8859-1')\n",
    "n_semanas = df_consulta['semana'].max()\n",
    "\n",
    "df_consulta = df_consulta.groupby('semana').sum()\n",
    "\n",
    "df_consulta\n"
   ]
  },
  {
   "cell_type": "code",
   "execution_count": null,
   "metadata": {},
   "outputs": [],
   "source": [
    "# Gerando valores para as demais semanas\n",
    "\n",
    "\n",
    "cabecalho = df_consulta.columns\n",
    "cabecalho = cabecalho.drop(['Unnamed: 0', 'id', 'date', 'semana', 'total_por_unidade', 'total_por_kg'], errors='ignore')\n",
    "\n",
    "qtde_prod_unidades = len(list(cabecalho[cabecalho <= 'prod_07']))\n",
    "qtde_prod_kg = len(list(cabecalho[cabecalho > 'prod_07']))\n",
    "\n",
    "\n"
   ]
  },
  {
   "cell_type": "code",
   "execution_count": null,
   "metadata": {},
   "outputs": [],
   "source": [
    "# Gerando preços aleatórios para as demais semanas\n",
    "\n",
    "cabecalho = df_precos.columns\n",
    "\n",
    "produtos_unidades = ['prod_00', 'prod_01', 'prod_02', 'prod_03',\\\n",
    "    'prod_04', 'prod_05', 'prod_06', 'prod_07']\n",
    "\n",
    "\n",
    "posicao_linha = 1\n",
    "produtos_un = 0\n",
    "produtos_kg = 0\n",
    "\n",
    "for valor in cabecalho: \n",
    "    if valor in produtos_unidades: \n",
    "        print(df_precos[valor][0])\n",
    "        produtos_un += 1\n",
    "    else: \n",
    "        print(f'maior que 7 {valor}')\n",
    "        produtos_kg += 1"
   ]
  },
  {
   "cell_type": "code",
   "execution_count": null,
   "metadata": {},
   "outputs": [],
   "source": [
    "vendas_2 = pd.read_csv('monthly_sales.csv', sep = ';', encoding='iso-8859-1').copy()\n",
    "\n",
    "qtde_prod = str(vendas_2.columns).count('prod_')\n",
    "\n",
    "for i in vendas_2['total']: "
   ]
  },
  {
   "cell_type": "code",
   "execution_count": 29,
   "metadata": {},
   "outputs": [
    {
     "data": {
      "text/plain": [
       "2.718281828459045"
      ]
     },
     "execution_count": 29,
     "metadata": {},
     "output_type": "execute_result"
    }
   ],
   "source": [
    "np.exp(1)"
   ]
  },
  {
   "cell_type": "markdown",
   "metadata": {},
   "source": [
    "##### Gerando transações do mês"
   ]
  },
  {
   "cell_type": "code",
   "execution_count": 198,
   "metadata": {},
   "outputs": [],
   "source": [
    "df_vendas = df_final.copy()"
   ]
  },
  {
   "cell_type": "code",
   "execution_count": 199,
   "metadata": {},
   "outputs": [],
   "source": [
    "# Reduzindo data\n",
    "df_vendas['date'] = df_vendas['date'].apply(lambda x: str(x)[4:7] + '-' + str(x)[20:24])\n"
   ]
  },
  {
   "cell_type": "code",
   "execution_count": 200,
   "metadata": {},
   "outputs": [],
   "source": [
    "# Eliminando colunas\n",
    "df_vendas.drop(['Unnamed: 0', 'id','semana'], axis = 1, inplace = True, errors='ignore')\n"
   ]
  },
  {
   "cell_type": "code",
   "execution_count": 201,
   "metadata": {},
   "outputs": [],
   "source": [
    "df_vendas = df_vendas.groupby('date').sum()"
   ]
  },
  {
   "cell_type": "code",
   "execution_count": 202,
   "metadata": {},
   "outputs": [],
   "source": [
    "cabecalho = df_vendas.columns\n",
    "\n",
    "cabecalho_unidades = list(cabecalho[cabecalho <= 'prod_07'])\n",
    "cabecalho_kg = list(cabecalho[cabecalho >= 'prod_07'])\n",
    "\n",
    "df_vendas['total_por_unidade'] = df_vendas[cabecalho_unidades].sum(axis = 1)\n",
    "df_vendas['total_por_kg'] = df_vendas[cabecalho_kg].sum(axis = 1)\n"
   ]
  },
  {
   "cell_type": "code",
   "execution_count": 96,
   "metadata": {},
   "outputs": [],
   "source": [
    "# Gerando csv \n",
    "df_vendas.to_csv('monthly_sales.csv', encoding = 'iso-8859-1', sep = ';')"
   ]
  },
  {
   "cell_type": "markdown",
   "metadata": {},
   "source": [
    "##### Salvando arquivo CSV"
   ]
  },
  {
   "cell_type": "code",
   "execution_count": 237,
   "metadata": {},
   "outputs": [],
   "source": [
    "df_precos.to_csv('weekly_price.csv', encoding = 'iso-8859-1', sep = ';')\n",
    "    "
   ]
  }
 ],
 "metadata": {
  "kernelspec": {
   "display_name": "Python 3 (ipykernel)",
   "language": "python",
   "name": "python3"
  },
  "language_info": {
   "codemirror_mode": {
    "name": "ipython",
    "version": 3
   },
   "file_extension": ".py",
   "mimetype": "text/x-python",
   "name": "python",
   "nbconvert_exporter": "python",
   "pygments_lexer": "ipython3",
   "version": "3.10.0"
  },
  "vscode": {
   "interpreter": {
    "hash": "9f8688d2bc69c748babb560adc9158621fb8aef49546882c3e4c6326402dd0cc"
   }
  }
 },
 "nbformat": 4,
 "nbformat_minor": 2
}
