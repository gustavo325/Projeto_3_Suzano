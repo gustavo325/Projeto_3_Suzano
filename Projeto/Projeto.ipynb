{
 "cells": [
  {
   "cell_type": "markdown",
   "metadata": {},
   "source": [
    "##### Bibliotecas utilizadas"
   ]
  },
  {
   "cell_type": "code",
   "execution_count": 1,
   "metadata": {},
   "outputs": [],
   "source": [
    "import requests \n",
    "import pandas as pd\n",
    "import numpy as np\n",
    "import time\n",
    "import random"
   ]
  },
  {
   "cell_type": "markdown",
   "metadata": {},
   "source": [
    "##### Gerando dados"
   ]
  },
  {
   "cell_type": "code",
   "execution_count": 267,
   "metadata": {},
   "outputs": [],
   "source": [
    "# Utilizado caso ainda não exista uma base de dados\n",
    "\n",
    "df_final = pd.DataFrame()\n",
    "contador = 1 \n",
    "for i in range (52):\n",
    "    dados = requests.get('http://localhost:3000/api/ep1').json()\n",
    "    df = pd.DataFrame(dados)\n",
    "    df['semana']  = contador\n",
    "    df_final = pd.concat([df, df_final], axis = 0)\n",
    "    contador +=1\n",
    "\n"
   ]
  },
  {
   "cell_type": "markdown",
   "metadata": {},
   "source": [
    "##### Tratando dados"
   ]
  },
  {
   "cell_type": "code",
   "execution_count": 268,
   "metadata": {},
   "outputs": [],
   "source": [
    "# Ajustando data \n",
    "df_final['date'] = df_final['date'].map(lambda x: time.ctime(x))"
   ]
  },
  {
   "cell_type": "code",
   "execution_count": 269,
   "metadata": {},
   "outputs": [],
   "source": [
    "# Ordenando dados \n",
    "df_final.sort_values('semana', axis = 0, ascending = True, inplace = True)"
   ]
  },
  {
   "cell_type": "code",
   "execution_count": 270,
   "metadata": {},
   "outputs": [],
   "source": [
    "# Ajustando valores negativos e NaN e convertendo os números em inteiro\n",
    "colunas = df_final.columns\n",
    "\n",
    "for coluna in colunas[2:len(colunas)-1]:\n",
    "        df_final[coluna] = df_final[coluna].fillna(0) \n",
    "        df_final[coluna] = df_final[coluna].apply(lambda x: int(abs(x)))\n",
    "        "
   ]
  },
  {
   "cell_type": "code",
   "execution_count": 271,
   "metadata": {},
   "outputs": [],
   "source": [
    "# Ajustando nomes das colunas para a comparação entre elas funcionar. \n",
    "df_final.rename(columns={'prod_0':'prod_00', 'prod_1':'prod_01', 'prod_2':'prod_02', \\\n",
    "    'prod_3':'prod_03', 'prod_4':'prod_04', 'prod_5':'prod_05',\\\n",
    "        'prod_6':'prod_06', 'prod_7':'prod_07', 'prod_8':'prod_08', \\\n",
    "        'prod_9':'prod_09'}, inplace = True)"
   ]
  },
  {
   "cell_type": "code",
   "execution_count": 272,
   "metadata": {},
   "outputs": [],
   "source": [
    "# gerando csv\n",
    "df_final.to_csv('all_sells.csv', encoding = 'iso-8859-1')"
   ]
  },
  {
   "cell_type": "markdown",
   "metadata": {},
   "source": [
    "##### Gerando preços"
   ]
  },
  {
   "cell_type": "code",
   "execution_count": 274,
   "metadata": {},
   "outputs": [],
   "source": [
    "# Gerando preços aleatórios para produtos novos e segunda semana. \n",
    "\n",
    "df_precos = df_final.copy() \n",
    "\n",
    "# Apagando todas as linhas do dataframe copiado.\n",
    "df_precos.drop(list(range(len(df_final))), axis = 0, inplace = True, errors= 'ignore')\n",
    "\n",
    "# Apagando colunas que não serão necessárias. \n",
    "df_precos.drop(['id', 'date', 'total_por_unidade', 'total_por_kg', \\\n",
    "    'Unnamed: 0.2', 'Unnamed: 0.1', 'Unnamed: 0'], axis = 1, errors= 'ignore', inplace = True)\n",
    "\n",
    "df_precos.loc[0] = [random.randint(10,30) for x in range(df_precos.shape[1])]\n",
    "df_precos.loc[1] = df_precos.loc[0]\n",
    "df_precos['semana'].loc[0] = 1\n",
    "df_precos['semana'].loc[1] = 2\n",
    "\n"
   ]
  },
  {
   "cell_type": "code",
   "execution_count": null,
   "metadata": {},
   "outputs": [],
   "source": [
    "# Gerando a variação relativa.\n",
    "\n",
    "df_consulta = pd.read_csv('all_sells.csv', encoding = 'iso-8859-1')\n",
    "df_consulta = df_consulta.groupby('semana').mean().diff()\n",
    "\n",
    "# Definindo percentual de variação do preço do produto. \n",
    "\n",
    "f_v = 0.5 + 1/(1+np.exp(1)**-df_consulta)\n",
    "f_v.drop(['Unnamed: 0.1', 'Unnamed: 0'], axis=1, inplace = True, errors = 'ignore')\n",
    "f_v.drop([1],axis=0,inplace = True)\n",
    "f_v.reset_index(inplace= True)\n",
    "\n",
    "# Criando linhas no dataframe com valor 0. \n",
    "\n",
    "for x in range(f_v.shape[0]):\n",
    "    df_precos.loc[df_precos.shape[0]] = 0\n",
    "\n",
    "# Gerando valores para as demais semanas\n",
    "\n",
    "x = 1\n",
    "v = -1\n",
    "for linha, valor in f_v.iterrows(): \n",
    "    x+=1\n",
    "    v+=1 \n",
    "    for coluna in df_precos: \n",
    "        df_precos[coluna].loc[x] = f_v[coluna][v] * df_precos[coluna][x-1]\n",
    "        df_precos['semana'].loc[x] = x+1\n",
    "        \n",
    "df_precos.drop([df_precos.shape[0]-1], axis = 0, inplace = True)\n",
    "df_precos = round(df_precos, 2)\n",
    "df_precos['semana'] = df_precos['semana'].astype(int)"
   ]
  },
  {
   "cell_type": "code",
   "execution_count": 276,
   "metadata": {},
   "outputs": [],
   "source": [
    "# Gerando csv\n",
    "\n",
    "df_precos.to_csv('weekly_price.csv', encoding = 'iso-8859-1')"
   ]
  },
  {
   "cell_type": "markdown",
   "metadata": {},
   "source": [
    "##### Gerando transações do mês"
   ]
  },
  {
   "cell_type": "code",
   "execution_count": 277,
   "metadata": {},
   "outputs": [],
   "source": [
    "df_vendas = df_final.copy()"
   ]
  },
  {
   "cell_type": "code",
   "execution_count": 278,
   "metadata": {},
   "outputs": [],
   "source": [
    "# Reduzindo data\n",
    "df_vendas['date'] = df_vendas['date'].apply(lambda x: str(x)[4:7] + '-' + str(x)[20:24])\n"
   ]
  },
  {
   "cell_type": "code",
   "execution_count": 279,
   "metadata": {},
   "outputs": [],
   "source": [
    "# Eliminando colunas\n",
    "df_vendas.drop(['Unnamed: 0', 'id','semana'], axis = 1, inplace = True, errors='ignore')\n"
   ]
  },
  {
   "cell_type": "code",
   "execution_count": null,
   "metadata": {},
   "outputs": [],
   "source": [
    "df_vendas = df_vendas.groupby('date').sum().reset_index().sort_values('date')\n",
    "df_vendas['balance'] = df_vendas.sum(axis = 1)"
   ]
  },
  {
   "cell_type": "code",
   "execution_count": 281,
   "metadata": {},
   "outputs": [],
   "source": [
    "# Gerando csv \n",
    "df_vendas.to_csv('monthly_sales.csv', encoding = 'iso-8859-1')"
   ]
  },
  {
   "cell_type": "markdown",
   "metadata": {},
   "source": [
    "##### Gerando total de vendas mensal"
   ]
  },
  {
   "cell_type": "code",
   "execution_count": 282,
   "metadata": {},
   "outputs": [],
   "source": [
    "df_vendas = pd.read_csv('all_sells.csv', encoding = 'iso-8859-1')\n"
   ]
  },
  {
   "cell_type": "code",
   "execution_count": null,
   "metadata": {},
   "outputs": [],
   "source": [
    "df_vendas.drop(['Unnamed: 0.1', 'Unnamed: 0', 'id'], axis = 1, inplace= True, errors ='ignore')\n",
    "df_vendas['date'] = df_vendas['date'].apply(lambda x: str(x)[4:7] + '-' + str(x)[20:24])\n",
    "df_vendas = df_vendas.groupby(['date','semana']).sum().reset_index()\n",
    "df_vendas['balance'] = df_vendas.sum(axis = 1)"
   ]
  },
  {
   "cell_type": "code",
   "execution_count": 284,
   "metadata": {},
   "outputs": [],
   "source": [
    "df_vendas.to_csv('month_revenue.csv', encoding ='iso-8859-1')"
   ]
  }
 ],
 "metadata": {
  "kernelspec": {
   "display_name": "Python 3 (ipykernel)",
   "language": "python",
   "name": "python3"
  },
  "language_info": {
   "codemirror_mode": {
    "name": "ipython",
    "version": 3
   },
   "file_extension": ".py",
   "mimetype": "text/x-python",
   "name": "python",
   "nbconvert_exporter": "python",
   "pygments_lexer": "ipython3",
   "version": "3.10.0"
  },
  "vscode": {
   "interpreter": {
    "hash": "9f8688d2bc69c748babb560adc9158621fb8aef49546882c3e4c6326402dd0cc"
   }
  }
 },
 "nbformat": 4,
 "nbformat_minor": 2
}
