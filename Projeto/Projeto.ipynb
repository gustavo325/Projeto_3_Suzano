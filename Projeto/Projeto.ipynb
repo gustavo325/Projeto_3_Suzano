{
 "cells": [
  {
   "cell_type": "markdown",
   "metadata": {},
   "source": [
    "##### Bibliotecas utilizadas"
   ]
  },
  {
   "cell_type": "code",
   "execution_count": 18,
   "metadata": {},
   "outputs": [],
   "source": [
    "import requests \n",
    "import pandas as pd\n",
    "import numpy as np\n",
    "import time\n",
    "import random\n",
    "import csv\n",
    "import copy"
   ]
  },
  {
   "cell_type": "markdown",
   "metadata": {},
   "source": [
    "##### Gerando dados"
   ]
  },
  {
   "cell_type": "code",
   "execution_count": null,
   "metadata": {},
   "outputs": [],
   "source": [
    "# Utilizado caso ainda não exista uma base de dados\n",
    "\n",
    "df_final = pd.DataFrame()\n",
    "contador = 1 \n",
    "for i in range (4):\n",
    "    dados = requests.get('http://localhost:3000/api/ep1').json()\n",
    "    df = pd.DataFrame(dados)\n",
    "    df['semana']  = contador\n",
    "    df_final = pd.concat([df, df_final], axis = 0)\n",
    "    contador +=1\n",
    "\n"
   ]
  },
  {
   "cell_type": "markdown",
   "metadata": {},
   "source": [
    "##### Tratando dados"
   ]
  },
  {
   "cell_type": "code",
   "execution_count": null,
   "metadata": {},
   "outputs": [],
   "source": [
    "# Ajustando data \n",
    "df_final['date'] = df_final['date'].map(lambda x: time.ctime(x))"
   ]
  },
  {
   "cell_type": "code",
   "execution_count": 9,
   "metadata": {},
   "outputs": [],
   "source": [
    "# Ordenando dados \n",
    "df_final.sort_values('semana', axis = 0, ascending = True, inplace = True)"
   ]
  },
  {
   "cell_type": "code",
   "execution_count": null,
   "metadata": {},
   "outputs": [],
   "source": [
    "# Ajustando valores negativos e NaN e convertendo os números em inteiro\n",
    "colunas = df_final.columns\n",
    "\n",
    "for coluna in colunas[2:len(colunas)-1]:\n",
    "        df_final[coluna] = df_final[coluna].fillna(0) \n",
    "        df_final[coluna] = df_final[coluna].apply(lambda x: int(abs(x)))\n",
    "        "
   ]
  },
  {
   "cell_type": "code",
   "execution_count": 85,
   "metadata": {},
   "outputs": [],
   "source": [
    "# Ajustando nomes das colunas para a comparação entre elas funcionar. \n",
    "df_final.rename(columns={'prod_0':'prod_00', 'prod_1':'prod_01', 'prod_2':'prod_02', \\\n",
    "    'prod_3':'prod_03', 'prod_4':'prod_04', 'prod_5':'prod_05',\\\n",
    "        'prod_6':'prod_06', 'prod_7':'prod_07', 'prod_8':'prod_08', \\\n",
    "        'prod_9':'prod_09'}, inplace = True)"
   ]
  },
  {
   "cell_type": "code",
   "execution_count": 65,
   "metadata": {},
   "outputs": [],
   "source": [
    "# gerando csv\n",
    "df_final.to_csv('all_sales.csv', encoding = 'iso-8859-1', sep = ';')"
   ]
  },
  {
   "cell_type": "markdown",
   "metadata": {},
   "source": [
    "##### Tratando preços"
   ]
  },
  {
   "cell_type": "code",
   "execution_count": 84,
   "metadata": {},
   "outputs": [],
   "source": [
    "# Quando já existir um csv na base, abrir arquivo.\n",
    "\n",
    "df_final = pd.read_csv('all_sales.csv', encoding = 'iso-8859-1', sep = ';')"
   ]
  },
  {
   "cell_type": "code",
   "execution_count": 85,
   "metadata": {},
   "outputs": [],
   "source": [
    "# Gerando preços aleatórios para produtos novos e segunda semana. \n",
    "\n",
    "df_precos = copy.deepcopy(df_final) \n",
    "\n",
    "# Apagando todas as linhas do dataframe copiado.\n",
    "df_precos.drop(list(range(len(df_final))), axis = 0, inplace = True, errors= 'ignore')\n",
    "\n",
    "# Apagando colunas que não serão necessárias. \n",
    "df_precos.drop(['id', 'date', 'total_por_unidade', 'total_por_kg', \\\n",
    "    'Unnamed: 0.2', 'Unnamed: 0.1', 'Unnamed: 0'], axis = 1, errors= 'ignore', inplace = True)\n",
    "\n",
    "df_precos.loc[0] = [random.randint(10,30) for x in range(df_precos.shape[1])]\n",
    "df_precos.loc[1] = df_precos.loc[0]\n",
    "df_precos['semana'].loc[0] = 1\n",
    "df_precos['semana'].loc[1] = 2\n",
    "\n"
   ]
  },
  {
   "cell_type": "code",
   "execution_count": 105,
   "metadata": {},
   "outputs": [
    {
     "data": {
      "text/html": [
       "<div>\n",
       "<style scoped>\n",
       "    .dataframe tbody tr th:only-of-type {\n",
       "        vertical-align: middle;\n",
       "    }\n",
       "\n",
       "    .dataframe tbody tr th {\n",
       "        vertical-align: top;\n",
       "    }\n",
       "\n",
       "    .dataframe thead th {\n",
       "        text-align: right;\n",
       "    }\n",
       "</style>\n",
       "<table border=\"1\" class=\"dataframe\">\n",
       "  <thead>\n",
       "    <tr style=\"text-align: right;\">\n",
       "      <th></th>\n",
       "      <th>prod_01</th>\n",
       "      <th>prod_02</th>\n",
       "      <th>prod_03</th>\n",
       "      <th>prod_05</th>\n",
       "      <th>prod_08</th>\n",
       "      <th>prod_09</th>\n",
       "      <th>prod_10</th>\n",
       "      <th>prod_15</th>\n",
       "      <th>prod_00</th>\n",
       "      <th>prod_04</th>\n",
       "      <th>prod_06</th>\n",
       "      <th>prod_11</th>\n",
       "      <th>prod_07</th>\n",
       "      <th>semana</th>\n",
       "    </tr>\n",
       "  </thead>\n",
       "  <tbody>\n",
       "    <tr>\n",
       "      <th>0</th>\n",
       "      <td>16</td>\n",
       "      <td>15</td>\n",
       "      <td>11</td>\n",
       "      <td>22</td>\n",
       "      <td>13</td>\n",
       "      <td>16</td>\n",
       "      <td>18</td>\n",
       "      <td>20</td>\n",
       "      <td>20</td>\n",
       "      <td>15</td>\n",
       "      <td>19</td>\n",
       "      <td>23</td>\n",
       "      <td>18</td>\n",
       "      <td>1</td>\n",
       "    </tr>\n",
       "    <tr>\n",
       "      <th>1</th>\n",
       "      <td>16</td>\n",
       "      <td>15</td>\n",
       "      <td>11</td>\n",
       "      <td>22</td>\n",
       "      <td>13</td>\n",
       "      <td>16</td>\n",
       "      <td>18</td>\n",
       "      <td>20</td>\n",
       "      <td>20</td>\n",
       "      <td>15</td>\n",
       "      <td>19</td>\n",
       "      <td>23</td>\n",
       "      <td>18</td>\n",
       "      <td>2</td>\n",
       "    </tr>\n",
       "  </tbody>\n",
       "</table>\n",
       "</div>"
      ],
      "text/plain": [
       "   prod_01  prod_02  prod_03  prod_05  prod_08  prod_09  prod_10  prod_15  \\\n",
       "0       16       15       11       22       13       16       18       20   \n",
       "1       16       15       11       22       13       16       18       20   \n",
       "\n",
       "   prod_00  prod_04  prod_06  prod_11  prod_07  semana  \n",
       "0       20       15       19       23       18       1  \n",
       "1       20       15       19       23       18       2  "
      ]
     },
     "execution_count": 105,
     "metadata": {},
     "output_type": "execute_result"
    }
   ],
   "source": [
    "df_precos"
   ]
  },
  {
   "cell_type": "code",
   "execution_count": 106,
   "metadata": {},
   "outputs": [
    {
     "name": "stderr",
     "output_type": "stream",
     "text": [
      "C:\\Users\\gusta\\AppData\\Local\\Temp/ipykernel_16792/3808266037.py:6: FutureWarning: The default value of numeric_only in DataFrameGroupBy.mean is deprecated. In a future version, numeric_only will default to False. Either specify numeric_only or select only columns which should be valid for the function.\n",
      "  df_consulta = df_consulta.groupby('semana').mean().diff()\n"
     ]
    }
   ],
   "source": [
    "# Verificando o número de semanas\n",
    "\n",
    "df_consulta = pd.read_csv('all_sales.csv', sep =';', encoding = 'iso-8859-1')\n",
    "\n",
    "df_consulta = df_consulta.groupby('semana').mean().diff()\n",
    "\n",
    "f_v = 0.5 + 1/(1+np.exp(1)**-df_consulta)\n",
    "\n",
    "f_v.drop(['Unnamed: 0.1', 'Unnamed: 0'], axis=1, inplace = True)\n",
    "\n",
    "f_v.drop([1],axis=0,inplace = True)\n",
    "\n",
    "f_v.reset_index(inplace= True)\n",
    "\n",
    "\n"
   ]
  },
  {
   "cell_type": "code",
   "execution_count": 112,
   "metadata": {},
   "outputs": [
    {
     "data": {
      "text/plain": [
       "11.224593312018545"
      ]
     },
     "execution_count": 112,
     "metadata": {},
     "output_type": "execute_result"
    }
   ],
   "source": [
    "teste = 0.5 + 1/(1+np.exp(1)**-0.5)\n",
    "teste * 10"
   ]
  },
  {
   "cell_type": "code",
   "execution_count": 108,
   "metadata": {},
   "outputs": [
    {
     "data": {
      "text/html": [
       "<div>\n",
       "<style scoped>\n",
       "    .dataframe tbody tr th:only-of-type {\n",
       "        vertical-align: middle;\n",
       "    }\n",
       "\n",
       "    .dataframe tbody tr th {\n",
       "        vertical-align: top;\n",
       "    }\n",
       "\n",
       "    .dataframe thead th {\n",
       "        text-align: right;\n",
       "    }\n",
       "</style>\n",
       "<table border=\"1\" class=\"dataframe\">\n",
       "  <thead>\n",
       "    <tr style=\"text-align: right;\">\n",
       "      <th></th>\n",
       "      <th>prod_01</th>\n",
       "      <th>prod_02</th>\n",
       "      <th>prod_03</th>\n",
       "      <th>prod_05</th>\n",
       "      <th>prod_08</th>\n",
       "      <th>prod_09</th>\n",
       "      <th>prod_10</th>\n",
       "      <th>prod_15</th>\n",
       "      <th>prod_00</th>\n",
       "      <th>prod_04</th>\n",
       "      <th>prod_06</th>\n",
       "      <th>prod_11</th>\n",
       "      <th>prod_07</th>\n",
       "      <th>semana</th>\n",
       "    </tr>\n",
       "  </thead>\n",
       "  <tbody>\n",
       "    <tr>\n",
       "      <th>0</th>\n",
       "      <td>16</td>\n",
       "      <td>15</td>\n",
       "      <td>11</td>\n",
       "      <td>22</td>\n",
       "      <td>13</td>\n",
       "      <td>16</td>\n",
       "      <td>18</td>\n",
       "      <td>20</td>\n",
       "      <td>20</td>\n",
       "      <td>15</td>\n",
       "      <td>19</td>\n",
       "      <td>23</td>\n",
       "      <td>18</td>\n",
       "      <td>1</td>\n",
       "    </tr>\n",
       "    <tr>\n",
       "      <th>1</th>\n",
       "      <td>16</td>\n",
       "      <td>15</td>\n",
       "      <td>11</td>\n",
       "      <td>22</td>\n",
       "      <td>13</td>\n",
       "      <td>16</td>\n",
       "      <td>18</td>\n",
       "      <td>20</td>\n",
       "      <td>20</td>\n",
       "      <td>15</td>\n",
       "      <td>19</td>\n",
       "      <td>23</td>\n",
       "      <td>18</td>\n",
       "      <td>2</td>\n",
       "    </tr>\n",
       "  </tbody>\n",
       "</table>\n",
       "</div>"
      ],
      "text/plain": [
       "   prod_01  prod_02  prod_03  prod_05  prod_08  prod_09  prod_10  prod_15  \\\n",
       "0       16       15       11       22       13       16       18       20   \n",
       "1       16       15       11       22       13       16       18       20   \n",
       "\n",
       "   prod_00  prod_04  prod_06  prod_11  prod_07  semana  \n",
       "0       20       15       19       23       18       1  \n",
       "1       20       15       19       23       18       2  "
      ]
     },
     "execution_count": 108,
     "metadata": {},
     "output_type": "execute_result"
    }
   ],
   "source": [
    "df_precos"
   ]
  },
  {
   "cell_type": "code",
   "execution_count": 126,
   "metadata": {},
   "outputs": [
    {
     "data": {
      "text/html": [
       "<div>\n",
       "<style scoped>\n",
       "    .dataframe tbody tr th:only-of-type {\n",
       "        vertical-align: middle;\n",
       "    }\n",
       "\n",
       "    .dataframe tbody tr th {\n",
       "        vertical-align: top;\n",
       "    }\n",
       "\n",
       "    .dataframe thead th {\n",
       "        text-align: right;\n",
       "    }\n",
       "</style>\n",
       "<table border=\"1\" class=\"dataframe\">\n",
       "  <thead>\n",
       "    <tr style=\"text-align: right;\">\n",
       "      <th></th>\n",
       "      <th>semana</th>\n",
       "      <th>prod_01</th>\n",
       "      <th>prod_02</th>\n",
       "      <th>prod_03</th>\n",
       "      <th>prod_05</th>\n",
       "      <th>prod_08</th>\n",
       "      <th>prod_09</th>\n",
       "      <th>prod_10</th>\n",
       "      <th>prod_15</th>\n",
       "      <th>prod_00</th>\n",
       "      <th>prod_04</th>\n",
       "      <th>prod_06</th>\n",
       "      <th>prod_11</th>\n",
       "      <th>prod_07</th>\n",
       "    </tr>\n",
       "  </thead>\n",
       "  <tbody>\n",
       "    <tr>\n",
       "      <th>0</th>\n",
       "      <td>2</td>\n",
       "      <td>0.786854</td>\n",
       "      <td>1.309998</td>\n",
       "      <td>0.500022</td>\n",
       "      <td>0.542814</td>\n",
       "      <td>1.500000</td>\n",
       "      <td>1.5</td>\n",
       "      <td>1.5</td>\n",
       "      <td>0.5</td>\n",
       "      <td>0.500112</td>\n",
       "      <td>1.490118</td>\n",
       "      <td>0.501051</td>\n",
       "      <td>1.5</td>\n",
       "      <td>1.499822</td>\n",
       "    </tr>\n",
       "    <tr>\n",
       "      <th>1</th>\n",
       "      <td>3</td>\n",
       "      <td>0.511640</td>\n",
       "      <td>1.498248</td>\n",
       "      <td>0.524967</td>\n",
       "      <td>1.110176</td>\n",
       "      <td>1.500000</td>\n",
       "      <td>1.5</td>\n",
       "      <td>1.5</td>\n",
       "      <td>0.5</td>\n",
       "      <td>1.499791</td>\n",
       "      <td>1.145062</td>\n",
       "      <td>0.605001</td>\n",
       "      <td>1.5</td>\n",
       "      <td>0.567813</td>\n",
       "    </tr>\n",
       "    <tr>\n",
       "      <th>2</th>\n",
       "      <td>4</td>\n",
       "      <td>1.425047</td>\n",
       "      <td>0.502363</td>\n",
       "      <td>1.337040</td>\n",
       "      <td>1.499475</td>\n",
       "      <td>0.690302</td>\n",
       "      <td>0.5</td>\n",
       "      <td>0.5</td>\n",
       "      <td>0.5</td>\n",
       "      <td>0.500016</td>\n",
       "      <td>1.486071</td>\n",
       "      <td>1.499729</td>\n",
       "      <td>0.5</td>\n",
       "      <td>0.830087</td>\n",
       "    </tr>\n",
       "  </tbody>\n",
       "</table>\n",
       "</div>"
      ],
      "text/plain": [
       "   semana   prod_01   prod_02   prod_03   prod_05   prod_08  prod_09  prod_10  \\\n",
       "0       2  0.786854  1.309998  0.500022  0.542814  1.500000      1.5      1.5   \n",
       "1       3  0.511640  1.498248  0.524967  1.110176  1.500000      1.5      1.5   \n",
       "2       4  1.425047  0.502363  1.337040  1.499475  0.690302      0.5      0.5   \n",
       "\n",
       "   prod_15   prod_00   prod_04   prod_06  prod_11   prod_07  \n",
       "0      0.5  0.500112  1.490118  0.501051      1.5  1.499822  \n",
       "1      0.5  1.499791  1.145062  0.605001      1.5  0.567813  \n",
       "2      0.5  0.500016  1.486071  1.499729      0.5  0.830087  "
      ]
     },
     "execution_count": 126,
     "metadata": {},
     "output_type": "execute_result"
    }
   ],
   "source": [
    "# Gerando valores para as demais semanas\n",
    "\n",
    "f_v\n"
   ]
  },
  {
   "cell_type": "code",
   "execution_count": null,
   "metadata": {},
   "outputs": [],
   "source": [
    "x = 2\n",
    "v = 0\n",
    "\n",
    "for coluna in df_precos.iteritems():\n",
    "    df_precos.loc[2] = f_v.loc[0] * df_precos.loc[1]"
   ]
  },
  {
   "cell_type": "markdown",
   "metadata": {},
   "source": [
    "##### Gerando transações do mês"
   ]
  },
  {
   "cell_type": "code",
   "execution_count": 198,
   "metadata": {},
   "outputs": [],
   "source": [
    "df_vendas = df_final.copy()"
   ]
  },
  {
   "cell_type": "code",
   "execution_count": 199,
   "metadata": {},
   "outputs": [],
   "source": [
    "# Reduzindo data\n",
    "df_vendas['date'] = df_vendas['date'].apply(lambda x: str(x)[4:7] + '-' + str(x)[20:24])\n"
   ]
  },
  {
   "cell_type": "code",
   "execution_count": 200,
   "metadata": {},
   "outputs": [],
   "source": [
    "# Eliminando colunas\n",
    "df_vendas.drop(['Unnamed: 0', 'id','semana'], axis = 1, inplace = True, errors='ignore')\n"
   ]
  },
  {
   "cell_type": "code",
   "execution_count": 201,
   "metadata": {},
   "outputs": [],
   "source": [
    "df_vendas = df_vendas.groupby('date').sum()"
   ]
  },
  {
   "cell_type": "code",
   "execution_count": 202,
   "metadata": {},
   "outputs": [],
   "source": [
    "cabecalho = df_vendas.columns\n",
    "\n",
    "cabecalho_unidades = list(cabecalho[cabecalho <= 'prod_07'])\n",
    "cabecalho_kg = list(cabecalho[cabecalho >= 'prod_07'])\n"
   ]
  },
  {
   "cell_type": "code",
   "execution_count": 96,
   "metadata": {},
   "outputs": [],
   "source": [
    "# Gerando csv \n",
    "df_vendas.to_csv('monthly_sales.csv', encoding = 'iso-8859-1', sep = ';')"
   ]
  },
  {
   "cell_type": "markdown",
   "metadata": {},
   "source": [
    "##### Salvando arquivo CSV"
   ]
  },
  {
   "cell_type": "code",
   "execution_count": 237,
   "metadata": {},
   "outputs": [],
   "source": [
    "df_precos.to_csv('weekly_price.csv', encoding = 'iso-8859-1', sep = ';')\n",
    "    "
   ]
  }
 ],
 "metadata": {
  "kernelspec": {
   "display_name": "Python 3 (ipykernel)",
   "language": "python",
   "name": "python3"
  },
  "language_info": {
   "codemirror_mode": {
    "name": "ipython",
    "version": 3
   },
   "file_extension": ".py",
   "mimetype": "text/x-python",
   "name": "python",
   "nbconvert_exporter": "python",
   "pygments_lexer": "ipython3",
   "version": "3.10.0"
  },
  "vscode": {
   "interpreter": {
    "hash": "9f8688d2bc69c748babb560adc9158621fb8aef49546882c3e4c6326402dd0cc"
   }
  }
 },
 "nbformat": 4,
 "nbformat_minor": 2
}
