{
 "cells": [
  {
   "cell_type": "markdown",
   "metadata": {},
   "source": [
    "##### Bibliotecas utilizadas"
   ]
  },
  {
   "cell_type": "code",
   "execution_count": 1,
   "metadata": {},
   "outputs": [],
   "source": [
    "import requests \n",
    "import pandas as pd\n",
    "import numpy as np\n",
    "import time\n",
    "import random\n",
    "import csv\n",
    "import copy"
   ]
  },
  {
   "cell_type": "markdown",
   "metadata": {},
   "source": [
    "##### Gerando dados"
   ]
  },
  {
   "cell_type": "code",
   "execution_count": null,
   "metadata": {},
   "outputs": [],
   "source": [
    "# Utilizado caso ainda não exista uma base de dados\n",
    "\n",
    "df_final = pd.DataFrame()\n",
    "contador = 1 \n",
    "for i in range (4):\n",
    "    dados = requests.get('http://localhost:3000/api/ep1').json()\n",
    "    df = pd.DataFrame(dados)\n",
    "    df['semana']  = contador\n",
    "    df_final = pd.concat([df, df_final], axis = 0)\n",
    "    contador +=1\n",
    "\n"
   ]
  },
  {
   "cell_type": "markdown",
   "metadata": {},
   "source": [
    "##### Tratando dados"
   ]
  },
  {
   "cell_type": "code",
   "execution_count": null,
   "metadata": {},
   "outputs": [],
   "source": [
    "# Ajustando data \n",
    "df_final['date'] = df_final['date'].map(lambda x: time.ctime(x))"
   ]
  },
  {
   "cell_type": "code",
   "execution_count": 9,
   "metadata": {},
   "outputs": [],
   "source": [
    "# Ordenando dados \n",
    "df_final.sort_values('semana', axis = 0, ascending = True, inplace = True)"
   ]
  },
  {
   "cell_type": "code",
   "execution_count": null,
   "metadata": {},
   "outputs": [],
   "source": [
    "# Ajustando valores negativos e NaN e convertendo os números em inteiro\n",
    "colunas = df_final.columns\n",
    "\n",
    "for coluna in colunas[2:len(colunas)-1]:\n",
    "        df_final[coluna] = df_final[coluna].fillna(0) \n",
    "        df_final[coluna] = df_final[coluna].apply(lambda x: int(abs(x)))\n",
    "        "
   ]
  },
  {
   "cell_type": "code",
   "execution_count": 85,
   "metadata": {},
   "outputs": [],
   "source": [
    "# Ajustando nomes das colunas para a comparação entre elas funcionar. \n",
    "df_final.rename(columns={'prod_0':'prod_00', 'prod_1':'prod_01', 'prod_2':'prod_02', \\\n",
    "    'prod_3':'prod_03', 'prod_4':'prod_04', 'prod_5':'prod_05',\\\n",
    "        'prod_6':'prod_06', 'prod_7':'prod_07', 'prod_8':'prod_08', \\\n",
    "        'prod_9':'prod_09'}, inplace = True)"
   ]
  },
  {
   "cell_type": "code",
   "execution_count": 229,
   "metadata": {},
   "outputs": [],
   "source": [
    "# Gerando valores totais de produtos movimentados por unidade e por kg \n",
    "\n",
    "cabecalho = df_final.columns\n",
    "\n",
    "# São valores que não quero adicionar nos cabeçalhos\n",
    "valores_invalidos = ['Unnamed: 0', 'id', 'date']\n",
    "\n",
    "cabecalho_unidades = list(cabecalho[cabecalho <= 'prod_07'])\n",
    "for i in valores_invalidos: \n",
    "    cabecalho_unidades.remove(i)\n",
    "\n",
    "cabecalho_kg = list(cabecalho[cabecalho > 'prod_07'])\n",
    "cabecalho_kg.remove('semana')\n",
    "\n",
    "df_final['total_por_unidade'] = df_final[cabecalho_unidades].sum(axis = 1)\n",
    "df_final['total_por_kg'] = df_final[cabecalho_kg].sum(axis = 1)"
   ]
  },
  {
   "cell_type": "code",
   "execution_count": 230,
   "metadata": {},
   "outputs": [],
   "source": [
    "# gerando csv\n",
    "df_final.to_csv('all_sales.csv', encoding = 'iso-8859-1', sep = ';')"
   ]
  },
  {
   "cell_type": "markdown",
   "metadata": {},
   "source": [
    "##### Tratando preços"
   ]
  },
  {
   "cell_type": "code",
   "execution_count": 238,
   "metadata": {},
   "outputs": [],
   "source": [
    "# Quando já existir um csv na base, abrir arquivo.\n",
    "\n",
    "df_final = pd.read_csv('all_sales.csv', encoding = 'iso-8859-1', sep = ';')"
   ]
  },
  {
   "cell_type": "code",
   "execution_count": 239,
   "metadata": {},
   "outputs": [
    {
     "data": {
      "text/html": [
       "<div>\n",
       "<style scoped>\n",
       "    .dataframe tbody tr th:only-of-type {\n",
       "        vertical-align: middle;\n",
       "    }\n",
       "\n",
       "    .dataframe tbody tr th {\n",
       "        vertical-align: top;\n",
       "    }\n",
       "\n",
       "    .dataframe thead th {\n",
       "        text-align: right;\n",
       "    }\n",
       "</style>\n",
       "<table border=\"1\" class=\"dataframe\">\n",
       "  <thead>\n",
       "    <tr style=\"text-align: right;\">\n",
       "      <th></th>\n",
       "      <th>prod_01</th>\n",
       "      <th>prod_02</th>\n",
       "      <th>prod_03</th>\n",
       "      <th>prod_05</th>\n",
       "      <th>prod_08</th>\n",
       "      <th>prod_09</th>\n",
       "      <th>prod_10</th>\n",
       "      <th>prod_15</th>\n",
       "      <th>prod_00</th>\n",
       "      <th>prod_04</th>\n",
       "      <th>prod_06</th>\n",
       "      <th>prod_11</th>\n",
       "      <th>prod_07</th>\n",
       "      <th>semana</th>\n",
       "    </tr>\n",
       "  </thead>\n",
       "  <tbody>\n",
       "    <tr>\n",
       "      <th>0</th>\n",
       "      <td>12</td>\n",
       "      <td>11</td>\n",
       "      <td>22</td>\n",
       "      <td>11</td>\n",
       "      <td>20</td>\n",
       "      <td>17</td>\n",
       "      <td>26</td>\n",
       "      <td>17</td>\n",
       "      <td>16</td>\n",
       "      <td>11</td>\n",
       "      <td>23</td>\n",
       "      <td>28</td>\n",
       "      <td>19</td>\n",
       "      <td>1</td>\n",
       "    </tr>\n",
       "  </tbody>\n",
       "</table>\n",
       "</div>"
      ],
      "text/plain": [
       "   prod_01  prod_02  prod_03  prod_05  prod_08  prod_09  prod_10  prod_15  \\\n",
       "0       12       11       22       11       20       17       26       17   \n",
       "\n",
       "   prod_00  prod_04  prod_06  prod_11  prod_07  semana  \n",
       "0       16       11       23       28       19       1  "
      ]
     },
     "execution_count": 239,
     "metadata": {},
     "output_type": "execute_result"
    }
   ],
   "source": [
    "# Gerando preços aleatórios para produtos novos\n",
    "\n",
    "df_precos = copy.deepcopy(df_final) \n",
    "\n",
    "df_precos.drop(list(range(len(df_final))), axis = 0, inplace = True, errors= 'ignore')\n",
    "df_precos.drop(['id', 'date', 'total_por_unidade', 'total_por_kg', 'Unnamed: 0.2', 'Unnamed: 0.1', 'Unnamed: 0'], axis = 1, errors= 'ignore', inplace = True)\n",
    "\n",
    "colunas_precos = df_precos.columns\n",
    "\n",
    "for coluna in colunas_precos: \n",
    "    df_precos.loc[0] = [random.randint(10,30) for x in range(df_precos.shape[1])]\n",
    "df_precos['semana'] = 1\n",
    "\n",
    "df_precos\n",
    "\n"
   ]
  },
  {
   "cell_type": "code",
   "execution_count": null,
   "metadata": {},
   "outputs": [],
   "source": [
    "# Gerando preços aleatórios para as demais semanas\n",
    "\n",
    "cabecalho = df_precos.columns\n",
    "\n",
    "produtos_unidades = ['prod_00', 'prod_01', 'prod_02', 'prod_03',\\\n",
    "    'prod_04', 'prod_05', 'prod_06', 'prod_07']\n",
    "\n",
    "\n",
    "posicao_linha = 1\n",
    "produtos_un = 0\n",
    "produtos_kg = 0\n",
    "\n",
    "for valor in cabecalho: \n",
    "    if valor in produtos_unidades: \n",
    "        print(df_precos[valor][0])\n",
    "        produtos_un += 1\n",
    "    else: \n",
    "        print(f'maior que 7 {valor}')\n",
    "        produtos_kg += 1"
   ]
  },
  {
   "cell_type": "code",
   "execution_count": 43,
   "metadata": {},
   "outputs": [
    {
     "name": "stdout",
     "output_type": "stream",
     "text": [
      "76724\n",
      "86775\n"
     ]
    }
   ],
   "source": [
    "vendas_2 = pd.read_csv('monthly_sales.csv', sep = ';', encoding='iso-8859-1').copy()\n",
    "\n",
    "qtde_prod = str(vendas_2.columns).count('prod_')\n",
    "\n",
    "for i in vendas_2['total']: "
   ]
  },
  {
   "cell_type": "code",
   "execution_count": 29,
   "metadata": {},
   "outputs": [
    {
     "data": {
      "text/plain": [
       "2.718281828459045"
      ]
     },
     "execution_count": 29,
     "metadata": {},
     "output_type": "execute_result"
    }
   ],
   "source": [
    "np.exp(1)"
   ]
  },
  {
   "cell_type": "markdown",
   "metadata": {},
   "source": [
    "##### Gerando transações do mês"
   ]
  },
  {
   "cell_type": "code",
   "execution_count": 198,
   "metadata": {},
   "outputs": [],
   "source": [
    "df_vendas = df_final.copy()"
   ]
  },
  {
   "cell_type": "code",
   "execution_count": 199,
   "metadata": {},
   "outputs": [],
   "source": [
    "# Reduzindo data\n",
    "df_vendas['date'] = df_vendas['date'].apply(lambda x: str(x)[4:7] + '-' + str(x)[20:24])\n"
   ]
  },
  {
   "cell_type": "code",
   "execution_count": 200,
   "metadata": {},
   "outputs": [],
   "source": [
    "# Eliminando colunas\n",
    "df_vendas.drop(['Unnamed: 0', 'id','semana'], axis = 1, inplace = True, errors='ignore')\n"
   ]
  },
  {
   "cell_type": "code",
   "execution_count": 201,
   "metadata": {},
   "outputs": [],
   "source": [
    "df_vendas = df_vendas.groupby('date').sum()"
   ]
  },
  {
   "cell_type": "code",
   "execution_count": 202,
   "metadata": {},
   "outputs": [],
   "source": [
    "cabecalho = df_vendas.columns\n",
    "\n",
    "cabecalho_unidades = list(cabecalho[cabecalho <= 'prod_07'])\n",
    "cabecalho_kg = list(cabecalho[cabecalho >= 'prod_07'])\n",
    "\n",
    "df_vendas['total_por_unidade'] = df_vendas[cabecalho_unidades].sum(axis = 1)\n",
    "df_vendas['total_por_kg'] = df_vendas[cabecalho_kg].sum(axis = 1)\n"
   ]
  },
  {
   "cell_type": "code",
   "execution_count": 96,
   "metadata": {},
   "outputs": [],
   "source": [
    "# Gerando csv \n",
    "df_vendas.to_csv('monthly_sales.csv', encoding = 'iso-8859-1', sep = ';')"
   ]
  },
  {
   "cell_type": "markdown",
   "metadata": {},
   "source": [
    "##### Salvando arquivo CSV"
   ]
  },
  {
   "cell_type": "code",
   "execution_count": 237,
   "metadata": {},
   "outputs": [],
   "source": [
    "df_precos.to_csv('weekly_price.csv', encoding = 'iso-8859-1', sep = ';')\n",
    "    "
   ]
  }
 ],
 "metadata": {
  "kernelspec": {
   "display_name": "Python 3 (ipykernel)",
   "language": "python",
   "name": "python3"
  },
  "language_info": {
   "codemirror_mode": {
    "name": "ipython",
    "version": 3
   },
   "file_extension": ".py",
   "mimetype": "text/x-python",
   "name": "python",
   "nbconvert_exporter": "python",
   "pygments_lexer": "ipython3",
   "version": "3.10.0"
  },
  "vscode": {
   "interpreter": {
    "hash": "9f8688d2bc69c748babb560adc9158621fb8aef49546882c3e4c6326402dd0cc"
   }
  }
 },
 "nbformat": 4,
 "nbformat_minor": 2
}
